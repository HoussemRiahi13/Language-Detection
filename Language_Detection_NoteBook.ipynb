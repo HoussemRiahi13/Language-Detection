{
  "nbformat": 4,
  "nbformat_minor": 0,
  "metadata": {
    "colab": {
      "name": "Language Detection NoteBook.ipynb",
      "provenance": [],
      "authorship_tag": "ABX9TyO7Ij7ZCua0LKpUGBJgRBO6",
      "include_colab_link": true
    },
    "kernelspec": {
      "name": "python3",
      "display_name": "Python 3"
    },
    "language_info": {
      "name": "python"
    }
  },
  "cells": [
    {
      "cell_type": "markdown",
      "metadata": {
        "id": "view-in-github",
        "colab_type": "text"
      },
      "source": [
        "<a href=\"https://colab.research.google.com/github/HoussemRiahi13/Language-Detection/blob/main/Language_Detection_NoteBook.ipynb\" target=\"_parent\"><img src=\"https://colab.research.google.com/assets/colab-badge.svg\" alt=\"Open In Colab\"/></a>"
      ]
    },
    {
      "cell_type": "markdown",
      "source": [
        "#1- **Install Packages**"
      ],
      "metadata": {
        "id": "MMWW0vqx7uNP"
      }
    },
    {
      "cell_type": "code",
      "execution_count": null,
      "metadata": {
        "colab": {
          "base_uri": "https://localhost:8080/"
        },
        "id": "hipxH8wF6pRG",
        "outputId": "41755096-8bc9-4c5d-d196-2c80b0a3ef7a"
      },
      "outputs": [
        {
          "output_type": "stream",
          "name": "stdout",
          "text": [
            "Looking in indexes: https://pypi.org/simple, https://us-python.pkg.dev/colab-wheels/public/simple/\n",
            "Requirement already satisfied: textblob in /usr/local/lib/python3.7/dist-packages (0.15.3)\n",
            "Collecting textblob\n",
            "  Downloading textblob-0.17.1-py2.py3-none-any.whl (636 kB)\n",
            "\u001b[K     |████████████████████████████████| 636 kB 23.7 MB/s \n",
            "\u001b[?25hRequirement already satisfied: nltk>=3.1 in /usr/local/lib/python3.7/dist-packages (from textblob) (3.2.5)\n",
            "Requirement already satisfied: six in /usr/local/lib/python3.7/dist-packages (from nltk>=3.1->textblob) (1.15.0)\n",
            "Installing collected packages: textblob\n",
            "  Attempting uninstall: textblob\n",
            "    Found existing installation: textblob 0.15.3\n",
            "    Uninstalling textblob-0.15.3:\n",
            "      Successfully uninstalled textblob-0.15.3\n",
            "Successfully installed textblob-0.17.1\n"
          ]
        }
      ],
      "source": [
        "pip install -U textblob"
      ]
    },
    {
      "cell_type": "code",
      "source": [
        "pip install langid"
      ],
      "metadata": {
        "colab": {
          "base_uri": "https://localhost:8080/"
        },
        "id": "-rbkQCTPC0R8",
        "outputId": "9ecbac84-4c59-4e3a-88e1-03bf88b32f11"
      },
      "execution_count": null,
      "outputs": [
        {
          "output_type": "stream",
          "name": "stdout",
          "text": [
            "Looking in indexes: https://pypi.org/simple, https://us-python.pkg.dev/colab-wheels/public/simple/\n",
            "Collecting langid\n",
            "  Downloading langid-1.1.6.tar.gz (1.9 MB)\n",
            "\u001b[K     |████████████████████████████████| 1.9 MB 22.5 MB/s \n",
            "\u001b[?25hRequirement already satisfied: numpy in /usr/local/lib/python3.7/dist-packages (from langid) (1.21.6)\n",
            "Building wheels for collected packages: langid\n",
            "  Building wheel for langid (setup.py) ... \u001b[?25l\u001b[?25hdone\n",
            "  Created wheel for langid: filename=langid-1.1.6-py3-none-any.whl size=1941188 sha256=1b885778318fef94b58dfbc69ec4743fc3fd5ae891498c52772e50bffbff4794\n",
            "  Stored in directory: /root/.cache/pip/wheels/2b/bb/7f/11e4db39477278161e882eadc46fb558949a28b13470fc74b8\n",
            "Successfully built langid\n",
            "Installing collected packages: langid\n",
            "Successfully installed langid-1.1.6\n"
          ]
        }
      ]
    },
    {
      "cell_type": "code",
      "source": [
        "pip install -U Langdetect"
      ],
      "metadata": {
        "colab": {
          "base_uri": "https://localhost:8080/"
        },
        "id": "7USWCJ2t7WJS",
        "outputId": "0e319732-a547-4fdb-d468-a64f72379b5e"
      },
      "execution_count": null,
      "outputs": [
        {
          "output_type": "stream",
          "name": "stdout",
          "text": [
            "Looking in indexes: https://pypi.org/simple, https://us-python.pkg.dev/colab-wheels/public/simple/\n",
            "Collecting Langdetect\n",
            "  Downloading langdetect-1.0.9.tar.gz (981 kB)\n",
            "\u001b[K     |████████████████████████████████| 981 kB 25.7 MB/s \n",
            "\u001b[?25hRequirement already satisfied: six in /usr/local/lib/python3.7/dist-packages (from Langdetect) (1.15.0)\n",
            "Building wheels for collected packages: Langdetect\n",
            "  Building wheel for Langdetect (setup.py) ... \u001b[?25l\u001b[?25hdone\n",
            "  Created wheel for Langdetect: filename=langdetect-1.0.9-py3-none-any.whl size=993242 sha256=133600fd82dc8ee2da98aa516b3d7eb10fbac2ce6dc4637d565cd4558f12b469\n",
            "  Stored in directory: /root/.cache/pip/wheels/c5/96/8a/f90c59ed25d75e50a8c10a1b1c2d4c402e4dacfa87f3aff36a\n",
            "Successfully built Langdetect\n",
            "Installing collected packages: Langdetect\n",
            "Successfully installed Langdetect-1.0.9\n"
          ]
        }
      ]
    },
    {
      "cell_type": "code",
      "source": [
        "pip install -U guess_language-spirit"
      ],
      "metadata": {
        "colab": {
          "base_uri": "https://localhost:8080/"
        },
        "id": "EXk9-HOu7hZv",
        "outputId": "dc11fbde-5c7a-47ff-9145-c69870118519"
      },
      "execution_count": null,
      "outputs": [
        {
          "output_type": "stream",
          "name": "stdout",
          "text": [
            "Looking in indexes: https://pypi.org/simple, https://us-python.pkg.dev/colab-wheels/public/simple/\n",
            "Collecting guess_language-spirit\n",
            "  Downloading guess_language-spirit-0.5.3.tar.bz2 (81 kB)\n",
            "\u001b[K     |████████████████████████████████| 81 kB 8.4 MB/s \n",
            "\u001b[?25hBuilding wheels for collected packages: guess-language-spirit\n",
            "  Building wheel for guess-language-spirit (setup.py) ... \u001b[?25l\u001b[?25hdone\n",
            "  Created wheel for guess-language-spirit: filename=guess_language_spirit-0.5.3-py3-none-any.whl size=121216 sha256=7e2b5b41491a6c02b6db2aa0bc0ca0d05ad87d72e1b36038117605f9a967e7de\n",
            "  Stored in directory: /root/.cache/pip/wheels/ea/2f/46/5e92bc12077fb5d094daa274b59cc8a750dc7f72885ae7293e\n",
            "Successfully built guess-language-spirit\n",
            "Installing collected packages: guess-language-spirit\n",
            "Successfully installed guess-language-spirit-0.5.3\n"
          ]
        }
      ]
    },
    {
      "cell_type": "markdown",
      "source": [
        "# 2- **Import Packages**"
      ],
      "metadata": {
        "id": "D9O44eaM8EsQ"
      }
    },
    {
      "cell_type": "code",
      "source": [
        "from textblob import TextBlob\n",
        "from guess_language import guess_language\n",
        "from langdetect import detect\n",
        "import random\n",
        "import langid\n",
        "import nltk\n",
        "nltk.download('punkt')"
      ],
      "metadata": {
        "colab": {
          "base_uri": "https://localhost:8080/"
        },
        "id": "Pa_m98V18QuA",
        "outputId": "607cbcfb-4e60-4c11-a2c2-ff85b4f7effc"
      },
      "execution_count": null,
      "outputs": [
        {
          "output_type": "stream",
          "name": "stdout",
          "text": [
            "[nltk_data] Downloading package punkt to /root/nltk_data...\n",
            "[nltk_data]   Package punkt is already up-to-date!\n"
          ]
        },
        {
          "output_type": "execute_result",
          "data": {
            "text/plain": [
              "True"
            ]
          },
          "metadata": {},
          "execution_count": 75
        }
      ]
    },
    {
      "cell_type": "markdown",
      "source": [
        "# 3- **Functions**"
      ],
      "metadata": {
        "id": "1f-CHXJS8vRP"
      }
    },
    {
      "cell_type": "code",
      "source": [
        "def getSentences(Text):\n",
        "  blob=TextBlob(Text)\n",
        "  sentences=[]\n",
        "  sen=[]\n",
        "  if len(blob.sentences)>3:\n",
        "    rd=random.sample(range(0, len(blob.sentences)), 3)\n",
        "  else:\n",
        "    rd=random.sample(range(0, len(blob.sentences)), len(blob.sentences))\n",
        "  for i in range(len(rd)):\n",
        "    sentences.append(blob.sentences[rd[i]])\n",
        "  return sentences"
      ],
      "metadata": {
        "id": "SRJDkq7Q85G4"
      },
      "execution_count": null,
      "outputs": []
    },
    {
      "cell_type": "code",
      "source": [
        "def checkLanguages(Text):\n",
        "  sentences=getSentences(Text)\n",
        "  lang=[]\n",
        "  for i in range(len(sentences)):\n",
        "    lang.append(langid.classify(str(sentences[i]))[0]) \n",
        "  for i in range(len(sentences)):\n",
        "    lang.append(guess_language(str(sentences[i]))) \n",
        "  for i in range(len(sentences)):\n",
        "    lang.append(detect(str(sentences[i]))) \n",
        "  for l in lang:\n",
        "    if lang.count(l)>=len(sentences)*2:\n",
        "      return l\n",
        "    else:\n",
        "      return \"can't decide which language\"\n",
        "  "
      ],
      "metadata": {
        "id": "oj8XKqVb-aRK"
      },
      "execution_count": null,
      "outputs": []
    },
    {
      "cell_type": "markdown",
      "source": [
        "# 4- **Test**"
      ],
      "metadata": {
        "id": "YLNcDEg7BYRM"
      }
    },
    {
      "cell_type": "code",
      "source": [
        "print(checkLanguages(\"\"\"Chère Mme Smith :\n",
        "\n",
        "J'étais très intéressé par la lecture de l'offre d'emploi pour le poste de professeur d'anatomie et de physiologie à l'Université de Middleburg. Je crois que mon expérience correspond parfaitement aux responsabilités liées à ce rôle, et je suis heureux de soumettre ma candidature pour le poste.\n",
        "\n",
        "Mon poste d'enseignant le plus récent était à l'Université d'Amery, où j'ai enseigné l'anatomie et la physiologie en tant que professeur auxiliaire. De plus, j'ai siégé à deux comités de la faculté et participé à un projet de recherche.\n",
        "\n",
        "J'ai joint mon curriculum vitae à cette lettre. Grâce à cela, j'espère que vous en apprendrez plus sur mon parcours, ma formation, mes réalisations et mes récompenses.\n",
        "\n",
        "Si je peux vous fournir d'autres informations, n'hésitez pas à me le faire savoir. J'ai hâte d'avoir de vos nouvelles sur cette opportunité.\n",
        "\n",
        "Merci pour votre considération.\n",
        "\n",
        "Jane Lee \"\"\"))\n"
      ],
      "metadata": {
        "colab": {
          "base_uri": "https://localhost:8080/"
        },
        "id": "Og-K9cBABdoS",
        "outputId": "96d3ea8c-003f-449a-cb4f-1c8e46256b4d"
      },
      "execution_count": null,
      "outputs": [
        {
          "output_type": "stream",
          "name": "stdout",
          "text": [
            "fr\n"
          ]
        }
      ]
    }
  ]
}